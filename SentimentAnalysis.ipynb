{
 "cells": [
  {
   "cell_type": "code",
   "execution_count": 11,
   "id": "d62574e1-b497-4baf-8508-f61d23c5ee01",
   "metadata": {
    "tags": []
   },
   "outputs": [
    {
     "data": {
      "text/plain": [
       "'Positive'"
      ]
     },
     "execution_count": 11,
     "metadata": {},
     "output_type": "execute_result"
    }
   ],
   "source": [
    "text='''\n",
    "He was excellent indeed, madam: the king very\n",
    "lately spoke of him admiringly and mourningly: he\n",
    "was skilful enough to have lived still, if knowledge\n",
    "could be set up against mortality\n",
    "'''\n",
    "\n",
    "\n",
    "def get_sentiment(polarity):\n",
    "    if polarity < 0.0:\n",
    "        return 'Negative'\n",
    "    elif polarity > 0.2:\n",
    "        return 'Positive'\n",
    "    else:\n",
    "        return 'Neutral'\n",
    "\n",
    "\n",
    "\n",
    "#Sentiment Check\n",
    "from vaderSentiment.vaderSentiment import SentimentIntensityAnalyzer\n",
    "analyzer=SentimentIntensityAnalyzer()        \n",
    "polarity = analyzer.polarity_scores(text)['compound']\n",
    "\n",
    "\n",
    "get_sentiment(polarity)\n"
   ]
  },
  {
   "cell_type": "code",
   "execution_count": 12,
   "id": "6216cf1c-5d34-44af-9775-2fce545d05dc",
   "metadata": {
    "tags": []
   },
   "outputs": [],
   "source": [
    "import itertools\n",
    "\n",
    "# splitting modified single string into list of strings using groupby() function\n",
    "grouped_strings = [\"\".join(g) for k, g in itertools.groupby(text, lambda x: x == \" \") if not k]\n"
   ]
  },
  {
   "cell_type": "code",
   "execution_count": 13,
   "id": "a3431c11-21b3-4dba-b231-4b6a7e485754",
   "metadata": {
    "tags": []
   },
   "outputs": [
    {
     "data": {
      "text/plain": [
       "<Axes: xlabel='sentiment'>"
      ]
     },
     "execution_count": 13,
     "metadata": {},
     "output_type": "execute_result"
    },
    {
     "data": {
      "image/png": "[encoded data removed]",
      "text/plain": [
       "<Figure size 216x216 with 1 Axes>"
      ]
     },
     "metadata": {
      "needs_background": "light"
     },
     "output_type": "display_data"
    }
   ],
   "source": [
    "import pandas as pd\n",
    "import matplotlib.pyplot as plt\n",
    "\n",
    "df = pd.DataFrame()\n",
    "\n",
    "df['polarity']=[analyzer.polarity_scores(text)['compound'] for text in grouped_strings]\n",
    "df['sentiment']=df.polarity.apply(get_sentiment)\n",
    "plt.figure(figsize=(3,3))\n",
    "df.sentiment.value_counts().plot.bar()"
   ]
  },
  {
   "cell_type": "code",
   "execution_count": 10,
   "id": "432afaee-1524-4348-8563-acdbcb840899",
   "metadata": {
    "tags": []
   },
   "outputs": [
    {
     "data": {
      "text/plain": [
       "'\\nThis young gentlewoman had a father,–O, that\\n‘had’! how sad a passage ’tis!–whose skill was\\nalmost as great as his honesty; had it stretched so\\nfar, would have made nature immortal, and death\\nshould have play for lack of work. Would, for the\\nking’s sake, he were living! I think it would be\\nthe death of the king’s disease.\\n'"
      ]
     },
     "execution_count": 10,
     "metadata": {},
     "output_type": "execute_result"
    }
   ],
   "source": [
    "text"
   ]
  },
  {
   "cell_type": "code",
   "execution_count": null,
   "id": "57779eaf-b9a8-4bd0-aec5-9707816f95da",
   "metadata": {},
   "outputs": [],
   "source": []
  },
  {
   "cell_type": "code",
   "execution_count": null,
   "id": "bddf179b-8221-4539-a37f-4323185dd389",
   "metadata": {},
   "outputs": [],
   "source": []
  }
 ],
 "metadata": {
  "kernelspec": {
   "display_name": "Python 3 (ipykernel)",
   "language": "python",
   "name": "python3"
  },
  "language_info": {
   "codemirror_mode": {
    "name": "ipython",
    "version": 3
   },
   "file_extension": ".py",
   "mimetype": "text/x-python",
   "name": "python",
   "nbconvert_exporter": "python",
   "pygments_lexer": "ipython3",
   "version": "3.9.16"
  }
 },
 "nbformat": 4,
 "nbformat_minor": 5
}
